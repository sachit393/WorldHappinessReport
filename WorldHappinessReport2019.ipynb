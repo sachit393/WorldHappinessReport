{
  "nbformat": 4,
  "nbformat_minor": 0,
  "metadata": {
    "colab": {
      "name": "WorldHappinessReport2019.ipynb",
      "provenance": [],
      "collapsed_sections": []
    },
    "kernelspec": {
      "name": "python3",
      "display_name": "Python 3"
    },
    "language_info": {
      "name": "python"
    }
  },
  "cells": [
    {
      "cell_type": "markdown",
      "metadata": {
        "id": "YV7dvaDbng3H"
      },
      "source": [
        "# IMPORTING LIBRARIES"
      ]
    },
    {
      "cell_type": "code",
      "metadata": {
        "id": "fgs4TMMMnj_U"
      },
      "source": [
        "import pandas as pd\n",
        "import numpy as np\n",
        "import matplotlib.pyplot as plt\n",
        "import seaborn as sns"
      ],
      "execution_count": null,
      "outputs": []
    },
    {
      "cell_type": "code",
      "metadata": {
        "id": "bPS_gfccnbvc"
      },
      "source": [
        "dataset = pd.read_csv('2019.csv')"
      ],
      "execution_count": null,
      "outputs": []
    },
    {
      "cell_type": "markdown",
      "metadata": {
        "id": "rIS3A0vgn7zi"
      },
      "source": [
        "# DATA ANALYSIS"
      ]
    },
    {
      "cell_type": "code",
      "metadata": {
        "colab": {
          "base_uri": "https://localhost:8080/"
        },
        "id": "0FzvnTv0ny9K",
        "outputId": "39516d6b-f163-4d76-bf99-dbac0f39414c"
      },
      "source": [
        "dataset.info()"
      ],
      "execution_count": null,
      "outputs": [
        {
          "output_type": "stream",
          "text": [
            "<class 'pandas.core.frame.DataFrame'>\n",
            "RangeIndex: 156 entries, 0 to 155\n",
            "Data columns (total 9 columns):\n",
            " #   Column                        Non-Null Count  Dtype  \n",
            "---  ------                        --------------  -----  \n",
            " 0   Overall rank                  156 non-null    int64  \n",
            " 1   Country or region             156 non-null    object \n",
            " 2   Score                         156 non-null    float64\n",
            " 3   GDP per capita                156 non-null    float64\n",
            " 4   Social support                156 non-null    float64\n",
            " 5   Healthy life expectancy       156 non-null    float64\n",
            " 6   Freedom to make life choices  156 non-null    float64\n",
            " 7   Generosity                    156 non-null    float64\n",
            " 8   Perceptions of corruption     156 non-null    float64\n",
            "dtypes: float64(7), int64(1), object(1)\n",
            "memory usage: 11.1+ KB\n"
          ],
          "name": "stdout"
        }
      ]
    },
    {
      "cell_type": "code",
      "metadata": {
        "colab": {
          "base_uri": "https://localhost:8080/",
          "height": 220
        },
        "id": "JjNiX17Gn7PB",
        "outputId": "fdbe42be-fa98-4542-9928-01b672167df8"
      },
      "source": [
        "dataset.head()"
      ],
      "execution_count": null,
      "outputs": [
        {
          "output_type": "execute_result",
          "data": {
            "text/html": [
              "<div>\n",
              "<style scoped>\n",
              "    .dataframe tbody tr th:only-of-type {\n",
              "        vertical-align: middle;\n",
              "    }\n",
              "\n",
              "    .dataframe tbody tr th {\n",
              "        vertical-align: top;\n",
              "    }\n",
              "\n",
              "    .dataframe thead th {\n",
              "        text-align: right;\n",
              "    }\n",
              "</style>\n",
              "<table border=\"1\" class=\"dataframe\">\n",
              "  <thead>\n",
              "    <tr style=\"text-align: right;\">\n",
              "      <th></th>\n",
              "      <th>Overall rank</th>\n",
              "      <th>Country or region</th>\n",
              "      <th>Score</th>\n",
              "      <th>GDP per capita</th>\n",
              "      <th>Social support</th>\n",
              "      <th>Healthy life expectancy</th>\n",
              "      <th>Freedom to make life choices</th>\n",
              "      <th>Generosity</th>\n",
              "      <th>Perceptions of corruption</th>\n",
              "    </tr>\n",
              "  </thead>\n",
              "  <tbody>\n",
              "    <tr>\n",
              "      <th>0</th>\n",
              "      <td>1</td>\n",
              "      <td>Finland</td>\n",
              "      <td>7.769</td>\n",
              "      <td>1.340</td>\n",
              "      <td>1.587</td>\n",
              "      <td>0.986</td>\n",
              "      <td>0.596</td>\n",
              "      <td>0.153</td>\n",
              "      <td>0.393</td>\n",
              "    </tr>\n",
              "    <tr>\n",
              "      <th>1</th>\n",
              "      <td>2</td>\n",
              "      <td>Denmark</td>\n",
              "      <td>7.600</td>\n",
              "      <td>1.383</td>\n",
              "      <td>1.573</td>\n",
              "      <td>0.996</td>\n",
              "      <td>0.592</td>\n",
              "      <td>0.252</td>\n",
              "      <td>0.410</td>\n",
              "    </tr>\n",
              "    <tr>\n",
              "      <th>2</th>\n",
              "      <td>3</td>\n",
              "      <td>Norway</td>\n",
              "      <td>7.554</td>\n",
              "      <td>1.488</td>\n",
              "      <td>1.582</td>\n",
              "      <td>1.028</td>\n",
              "      <td>0.603</td>\n",
              "      <td>0.271</td>\n",
              "      <td>0.341</td>\n",
              "    </tr>\n",
              "    <tr>\n",
              "      <th>3</th>\n",
              "      <td>4</td>\n",
              "      <td>Iceland</td>\n",
              "      <td>7.494</td>\n",
              "      <td>1.380</td>\n",
              "      <td>1.624</td>\n",
              "      <td>1.026</td>\n",
              "      <td>0.591</td>\n",
              "      <td>0.354</td>\n",
              "      <td>0.118</td>\n",
              "    </tr>\n",
              "    <tr>\n",
              "      <th>4</th>\n",
              "      <td>5</td>\n",
              "      <td>Netherlands</td>\n",
              "      <td>7.488</td>\n",
              "      <td>1.396</td>\n",
              "      <td>1.522</td>\n",
              "      <td>0.999</td>\n",
              "      <td>0.557</td>\n",
              "      <td>0.322</td>\n",
              "      <td>0.298</td>\n",
              "    </tr>\n",
              "  </tbody>\n",
              "</table>\n",
              "</div>"
            ],
            "text/plain": [
              "   Overall rank Country or region  ...  Generosity  Perceptions of corruption\n",
              "0             1           Finland  ...       0.153                      0.393\n",
              "1             2           Denmark  ...       0.252                      0.410\n",
              "2             3            Norway  ...       0.271                      0.341\n",
              "3             4           Iceland  ...       0.354                      0.118\n",
              "4             5       Netherlands  ...       0.322                      0.298\n",
              "\n",
              "[5 rows x 9 columns]"
            ]
          },
          "metadata": {
            "tags": []
          },
          "execution_count": 144
        }
      ]
    },
    {
      "cell_type": "markdown",
      "metadata": {
        "id": "_OykADc74LoR"
      },
      "source": [
        "FINLAND IS THE HAPPIEST COUNTRY (AS PER DATA)"
      ]
    },
    {
      "cell_type": "code",
      "metadata": {
        "colab": {
          "base_uri": "https://localhost:8080/",
          "height": 237
        },
        "id": "jXroHHxvoCrj",
        "outputId": "3f4dc785-57a2-4a0f-a0d0-e4fb00e1b8d8"
      },
      "source": [
        "dataset.tail()"
      ],
      "execution_count": null,
      "outputs": [
        {
          "output_type": "execute_result",
          "data": {
            "text/html": [
              "<div>\n",
              "<style scoped>\n",
              "    .dataframe tbody tr th:only-of-type {\n",
              "        vertical-align: middle;\n",
              "    }\n",
              "\n",
              "    .dataframe tbody tr th {\n",
              "        vertical-align: top;\n",
              "    }\n",
              "\n",
              "    .dataframe thead th {\n",
              "        text-align: right;\n",
              "    }\n",
              "</style>\n",
              "<table border=\"1\" class=\"dataframe\">\n",
              "  <thead>\n",
              "    <tr style=\"text-align: right;\">\n",
              "      <th></th>\n",
              "      <th>Overall rank</th>\n",
              "      <th>Country or region</th>\n",
              "      <th>Score</th>\n",
              "      <th>GDP per capita</th>\n",
              "      <th>Social support</th>\n",
              "      <th>Healthy life expectancy</th>\n",
              "      <th>Freedom to make life choices</th>\n",
              "      <th>Generosity</th>\n",
              "      <th>Perceptions of corruption</th>\n",
              "    </tr>\n",
              "  </thead>\n",
              "  <tbody>\n",
              "    <tr>\n",
              "      <th>151</th>\n",
              "      <td>152</td>\n",
              "      <td>Rwanda</td>\n",
              "      <td>3.334</td>\n",
              "      <td>0.359</td>\n",
              "      <td>0.711</td>\n",
              "      <td>0.614</td>\n",
              "      <td>0.555</td>\n",
              "      <td>0.217</td>\n",
              "      <td>0.411</td>\n",
              "    </tr>\n",
              "    <tr>\n",
              "      <th>152</th>\n",
              "      <td>153</td>\n",
              "      <td>Tanzania</td>\n",
              "      <td>3.231</td>\n",
              "      <td>0.476</td>\n",
              "      <td>0.885</td>\n",
              "      <td>0.499</td>\n",
              "      <td>0.417</td>\n",
              "      <td>0.276</td>\n",
              "      <td>0.147</td>\n",
              "    </tr>\n",
              "    <tr>\n",
              "      <th>153</th>\n",
              "      <td>154</td>\n",
              "      <td>Afghanistan</td>\n",
              "      <td>3.203</td>\n",
              "      <td>0.350</td>\n",
              "      <td>0.517</td>\n",
              "      <td>0.361</td>\n",
              "      <td>0.000</td>\n",
              "      <td>0.158</td>\n",
              "      <td>0.025</td>\n",
              "    </tr>\n",
              "    <tr>\n",
              "      <th>154</th>\n",
              "      <td>155</td>\n",
              "      <td>Central African Republic</td>\n",
              "      <td>3.083</td>\n",
              "      <td>0.026</td>\n",
              "      <td>0.000</td>\n",
              "      <td>0.105</td>\n",
              "      <td>0.225</td>\n",
              "      <td>0.235</td>\n",
              "      <td>0.035</td>\n",
              "    </tr>\n",
              "    <tr>\n",
              "      <th>155</th>\n",
              "      <td>156</td>\n",
              "      <td>South Sudan</td>\n",
              "      <td>2.853</td>\n",
              "      <td>0.306</td>\n",
              "      <td>0.575</td>\n",
              "      <td>0.295</td>\n",
              "      <td>0.010</td>\n",
              "      <td>0.202</td>\n",
              "      <td>0.091</td>\n",
              "    </tr>\n",
              "  </tbody>\n",
              "</table>\n",
              "</div>"
            ],
            "text/plain": [
              "     Overall rank  ... Perceptions of corruption\n",
              "151           152  ...                     0.411\n",
              "152           153  ...                     0.147\n",
              "153           154  ...                     0.025\n",
              "154           155  ...                     0.035\n",
              "155           156  ...                     0.091\n",
              "\n",
              "[5 rows x 9 columns]"
            ]
          },
          "metadata": {
            "tags": []
          },
          "execution_count": 145
        }
      ]
    },
    {
      "cell_type": "markdown",
      "metadata": {
        "id": "6KaFQcfX4QVq"
      },
      "source": [
        "SOUTH SUDAN IS THE LEAST HAPPY COUNTRY"
      ]
    },
    {
      "cell_type": "markdown",
      "metadata": {
        "id": "BquRGFnCoIo6"
      },
      "source": [
        "CHECKING MISSING DATA"
      ]
    },
    {
      "cell_type": "code",
      "metadata": {
        "colab": {
          "base_uri": "https://localhost:8080/"
        },
        "id": "2xSF83XwoKQh",
        "outputId": "a73e46f7-73aa-465c-f714-39e45118d587"
      },
      "source": [
        "dataset.isnull().sum()"
      ],
      "execution_count": null,
      "outputs": [
        {
          "output_type": "execute_result",
          "data": {
            "text/plain": [
              "Overall rank                    0\n",
              "Country or region               0\n",
              "Score                           0\n",
              "GDP per capita                  0\n",
              "Social support                  0\n",
              "Healthy life expectancy         0\n",
              "Freedom to make life choices    0\n",
              "Generosity                      0\n",
              "Perceptions of corruption       0\n",
              "dtype: int64"
            ]
          },
          "metadata": {
            "tags": []
          },
          "execution_count": 146
        }
      ]
    },
    {
      "cell_type": "markdown",
      "metadata": {
        "id": "ZfMmeBQMoN6v"
      },
      "source": [
        "SUPRISINGLY NO MISSING DATA"
      ]
    },
    {
      "cell_type": "markdown",
      "metadata": {
        "id": "AlFv-n-LoTF_"
      },
      "source": [
        "HEAT MAP"
      ]
    },
    {
      "cell_type": "markdown",
      "metadata": {
        "id": "2r802YxLoXoo"
      },
      "source": [
        "# ANALYSING CORRELATIONS"
      ]
    },
    {
      "cell_type": "code",
      "metadata": {
        "colab": {
          "base_uri": "https://localhost:8080/",
          "height": 422
        },
        "id": "Oa9qMHE5oQBV",
        "outputId": "0aa26c8c-3d4c-4fb5-f1d6-73a5c257505b"
      },
      "source": [
        "sns.heatmap(dataset.corr())"
      ],
      "execution_count": null,
      "outputs": [
        {
          "output_type": "execute_result",
          "data": {
            "text/plain": [
              "<matplotlib.axes._subplots.AxesSubplot at 0x7fd34aafd8d0>"
            ]
          },
          "metadata": {
            "tags": []
          },
          "execution_count": 147
        },
        {
          "output_type": "display_data",
          "data": {
            "image/png": "[encoded data removed]",
            "text/plain": [
              "<Figure size 432x288 with 2 Axes>"
            ]
          },
          "metadata": {
            "tags": [],
            "needs_background": "light"
          }
        }
      ]
    },
    {
      "cell_type": "markdown",
      "metadata": {
        "id": "2YQ3VZTro7MU"
      },
      "source": [
        "MANY PARAMETERS SHOWING POSITIVE CORRELATIONS WITH SCORE"
      ]
    },
    {
      "cell_type": "code",
      "metadata": {
        "id": "FOzjQFH2pACF"
      },
      "source": [
        "dataset = dataset.drop(['Overall rank'],axis=1)"
      ],
      "execution_count": null,
      "outputs": []
    },
    {
      "cell_type": "markdown",
      "metadata": {
        "id": "gm83-g-hpUqw"
      },
      "source": [
        "REMOVING OVERALL RANK AS IT IS REDUDANT(SCORE IS ALREADY THERE)"
      ]
    },
    {
      "cell_type": "markdown",
      "metadata": {
        "id": "pRHjUN26peai"
      },
      "source": [
        "**SCORE VS GDP PER CAPITA**"
      ]
    },
    {
      "cell_type": "code",
      "metadata": {
        "colab": {
          "base_uri": "https://localhost:8080/",
          "height": 286
        },
        "id": "5qo9zRNspZVl",
        "outputId": "b257ce33-f462-4d5b-8244-1b8f7a85d75d"
      },
      "source": [
        "plt.scatter(dataset['GDP per capita'],dataset['Score'])"
      ],
      "execution_count": null,
      "outputs": [
        {
          "output_type": "execute_result",
          "data": {
            "text/plain": [
              "<matplotlib.collections.PathCollection at 0x7fd34aa37990>"
            ]
          },
          "metadata": {
            "tags": []
          },
          "execution_count": 149
        },
        {
          "output_type": "display_data",
          "data": {
            "image/png": "[encoded data removed]",
            "text/plain": [
              "<Figure size 432x288 with 1 Axes>"
            ]
          },
          "metadata": {
            "tags": [],
            "needs_background": "light"
          }
        }
      ]
    },
    {
      "cell_type": "code",
      "metadata": {
        "colab": {
          "base_uri": "https://localhost:8080/"
        },
        "id": "eGiPzVuCpwwC",
        "outputId": "7edb910b-b365-4995-9628-c3f1e34a6f7a"
      },
      "source": [
        "dataset['Score'].corr(dataset['GDP per capita'])"
      ],
      "execution_count": null,
      "outputs": [
        {
          "output_type": "execute_result",
          "data": {
            "text/plain": [
              "0.7938828678781278"
            ]
          },
          "metadata": {
            "tags": []
          },
          "execution_count": 150
        }
      ]
    },
    {
      "cell_type": "markdown",
      "metadata": {
        "id": "WbhNINEYp4Dt"
      },
      "source": [
        "VERY HIGH CORRELATION <br>\n",
        "**UNFORTUNATELY MONEY DOES GOVERN HAPPINESS (TO SOME EXTENT)**"
      ]
    },
    {
      "cell_type": "markdown",
      "metadata": {
        "id": "DJmuo842qKR3"
      },
      "source": [
        "SCORE VS SOCIAL SUPPORT"
      ]
    },
    {
      "cell_type": "code",
      "metadata": {
        "colab": {
          "base_uri": "https://localhost:8080/",
          "height": 286
        },
        "id": "uhrkN87oqJhP",
        "outputId": "d250af82-7764-437b-cf64-979b89c9978d"
      },
      "source": [
        "plt.scatter(dataset['Social support'],dataset['Score'])"
      ],
      "execution_count": null,
      "outputs": [
        {
          "output_type": "execute_result",
          "data": {
            "text/plain": [
              "<matplotlib.collections.PathCollection at 0x7fd34a9d1f50>"
            ]
          },
          "metadata": {
            "tags": []
          },
          "execution_count": 151
        },
        {
          "output_type": "display_data",
          "data": {
            "image/png": "[encoded data removed]",
            "text/plain": [
              "<Figure size 432x288 with 1 Axes>"
            ]
          },
          "metadata": {
            "tags": [],
            "needs_background": "light"
          }
        }
      ]
    },
    {
      "cell_type": "code",
      "metadata": {
        "colab": {
          "base_uri": "https://localhost:8080/"
        },
        "id": "bFN3eWPBqaEf",
        "outputId": "447b0d91-25e8-4bec-ee62-50f507fda7b3"
      },
      "source": [
        "dataset['Score'].corr(dataset['Social support'])"
      ],
      "execution_count": null,
      "outputs": [
        {
          "output_type": "execute_result",
          "data": {
            "text/plain": [
              "0.7770577880638645"
            ]
          },
          "metadata": {
            "tags": []
          },
          "execution_count": 152
        }
      ]
    },
    {
      "cell_type": "markdown",
      "metadata": {
        "id": "WSqiPGgpqh6e"
      },
      "source": [
        "**MORE SOCIAL SUPPORT => MORE HAPPINESS**"
      ]
    },
    {
      "cell_type": "markdown",
      "metadata": {
        "id": "scy52Odwqol-"
      },
      "source": [
        "**SCORE VS HEALTH LIFE EXPECTANCY**"
      ]
    },
    {
      "cell_type": "code",
      "metadata": {
        "colab": {
          "base_uri": "https://localhost:8080/",
          "height": 286
        },
        "id": "0Rzow_JtqnmQ",
        "outputId": "2afb9274-6a1d-433a-fa5c-627e00c021df"
      },
      "source": [
        "plt.scatter(dataset['Healthy life expectancy'],dataset['Score'])"
      ],
      "execution_count": null,
      "outputs": [
        {
          "output_type": "execute_result",
          "data": {
            "text/plain": [
              "<matplotlib.collections.PathCollection at 0x7fd34a933950>"
            ]
          },
          "metadata": {
            "tags": []
          },
          "execution_count": 153
        },
        {
          "output_type": "display_data",
          "data": {
            "image/png": "[encoded data removed]",
            "text/plain": [
              "<Figure size 432x288 with 1 Axes>"
            ]
          },
          "metadata": {
            "tags": [],
            "needs_background": "light"
          }
        }
      ]
    },
    {
      "cell_type": "code",
      "metadata": {
        "colab": {
          "base_uri": "https://localhost:8080/"
        },
        "id": "xJApufaRrEn9",
        "outputId": "56511994-3bec-498e-df7a-959affe71740"
      },
      "source": [
        "dataset['Score'].corr(dataset['Healthy life expectancy'])"
      ],
      "execution_count": null,
      "outputs": [
        {
          "output_type": "execute_result",
          "data": {
            "text/plain": [
              "0.7798831492425827"
            ]
          },
          "metadata": {
            "tags": []
          },
          "execution_count": 154
        }
      ]
    },
    {
      "cell_type": "markdown",
      "metadata": {
        "id": "-LgYKgA5rD7Y"
      },
      "source": [
        "**BETTER HEALTHY => MORE HAPPINESS\n",
        "OR OTHER WAY ROUND MAY BE :)**"
      ]
    },
    {
      "cell_type": "code",
      "metadata": {
        "colab": {
          "base_uri": "https://localhost:8080/",
          "height": 286
        },
        "id": "wrOyVIjArWUm",
        "outputId": "312a0154-a5f6-42c2-b146-637d78fa6aed"
      },
      "source": [
        "plt.scatter(dataset['Freedom to make life choices'],dataset['Score'])"
      ],
      "execution_count": null,
      "outputs": [
        {
          "output_type": "execute_result",
          "data": {
            "text/plain": [
              "<matplotlib.collections.PathCollection at 0x7fd34a89e3d0>"
            ]
          },
          "metadata": {
            "tags": []
          },
          "execution_count": 155
        },
        {
          "output_type": "display_data",
          "data": {
            "image/png": "[encoded data removed]",
            "text/plain": [
              "<Figure size 432x288 with 1 Axes>"
            ]
          },
          "metadata": {
            "tags": [],
            "needs_background": "light"
          }
        }
      ]
    },
    {
      "cell_type": "code",
      "metadata": {
        "colab": {
          "base_uri": "https://localhost:8080/"
        },
        "id": "m-wLH8TUrih2",
        "outputId": "be94a556-9c95-4021-ef13-68c7c0e82909"
      },
      "source": [
        "dataset['Score'].corr(dataset['Freedom to make life choices'])"
      ],
      "execution_count": null,
      "outputs": [
        {
          "output_type": "execute_result",
          "data": {
            "text/plain": [
              "0.5667418257199899"
            ]
          },
          "metadata": {
            "tags": []
          },
          "execution_count": 156
        }
      ]
    },
    {
      "cell_type": "markdown",
      "metadata": {
        "id": "7UqooFOvrvtB"
      },
      "source": [
        "**MORE FREEDOM=> MORE HAPPINESS**"
      ]
    },
    {
      "cell_type": "markdown",
      "metadata": {
        "id": "YcjEDYM4sQLY"
      },
      "source": [
        "**SCORE VS GENEROSITY**"
      ]
    },
    {
      "cell_type": "code",
      "metadata": {
        "colab": {
          "base_uri": "https://localhost:8080/",
          "height": 282
        },
        "id": "4T8l99Cxr8KK",
        "outputId": "d922e941-761d-4558-c2b4-d3f8ab19b35c"
      },
      "source": [
        "plt.scatter(dataset['Score'],dataset['Generosity'])"
      ],
      "execution_count": null,
      "outputs": [
        {
          "output_type": "execute_result",
          "data": {
            "text/plain": [
              "<matplotlib.collections.PathCollection at 0x7fd34a886390>"
            ]
          },
          "metadata": {
            "tags": []
          },
          "execution_count": 157
        },
        {
          "output_type": "display_data",
          "data": {
            "image/png": "[encoded data removed]",
            "text/plain": [
              "<Figure size 432x288 with 1 Axes>"
            ]
          },
          "metadata": {
            "tags": [],
            "needs_background": "light"
          }
        }
      ]
    },
    {
      "cell_type": "code",
      "metadata": {
        "colab": {
          "base_uri": "https://localhost:8080/"
        },
        "id": "3W908JmiruHW",
        "outputId": "f58a1f29-3805-47da-c483-6dbf9e586b37"
      },
      "source": [
        "dataset['Score'].corr(dataset['Generosity'])"
      ],
      "execution_count": null,
      "outputs": [
        {
          "output_type": "execute_result",
          "data": {
            "text/plain": [
              "0.07582369490389643"
            ]
          },
          "metadata": {
            "tags": []
          },
          "execution_count": 158
        }
      ]
    },
    {
      "cell_type": "markdown",
      "metadata": {
        "id": "WwJCJcZ9sDPJ"
      },
      "source": [
        "**UNEXPECTEDLY HAPPINESS DOES NOT DEPEND MUCH ON GENEROSITY**"
      ]
    },
    {
      "cell_type": "markdown",
      "metadata": {
        "id": "2CUfGwwtZ806"
      },
      "source": [
        "**SCORE VS PERCEPTIONS OF CORRUPTION**"
      ]
    },
    {
      "cell_type": "code",
      "metadata": {
        "colab": {
          "base_uri": "https://localhost:8080/",
          "height": 286
        },
        "id": "JhmHrp6uaHeU",
        "outputId": "56ba6809-ff0d-46f9-e755-9bbee1ecdd7f"
      },
      "source": [
        "plt.scatter(dataset['Perceptions of corruption'],dataset['Score'])"
      ],
      "execution_count": null,
      "outputs": [
        {
          "output_type": "execute_result",
          "data": {
            "text/plain": [
              "<matplotlib.collections.PathCollection at 0x7fd34b2ac710>"
            ]
          },
          "metadata": {
            "tags": []
          },
          "execution_count": 159
        },
        {
          "output_type": "display_data",
          "data": {
            "image/png": "[encoded data removed]",
            "text/plain": [
              "<Figure size 432x288 with 1 Axes>"
            ]
          },
          "metadata": {
            "tags": [],
            "needs_background": "light"
          }
        }
      ]
    },
    {
      "cell_type": "code",
      "metadata": {
        "colab": {
          "base_uri": "https://localhost:8080/"
        },
        "id": "ru7DJrwYaeeF",
        "outputId": "c72a1a82-87b1-4cd5-957b-bc2d0fd648fe"
      },
      "source": [
        "dataset['Perceptions of corruption'].corr(dataset['Score'])"
      ],
      "execution_count": null,
      "outputs": [
        {
          "output_type": "execute_result",
          "data": {
            "text/plain": [
              "0.3856130708664786"
            ]
          },
          "metadata": {
            "tags": []
          },
          "execution_count": 160
        }
      ]
    },
    {
      "cell_type": "markdown",
      "metadata": {
        "id": "Lf10PgaBa8Ry"
      },
      "source": [
        "**UNEXPECTED AGAIN**"
      ]
    },
    {
      "cell_type": "markdown",
      "metadata": {
        "id": "QvZb8Q9qbtrz"
      },
      "source": [
        "# ANALYSING DATA FOR INDIA"
      ]
    },
    {
      "cell_type": "code",
      "metadata": {
        "colab": {
          "base_uri": "https://localhost:8080/"
        },
        "id": "an52DH-78mJW",
        "outputId": "76a518bc-f650-4865-ad87-32a07a1f3baa"
      },
      "source": [
        "dataset.info()"
      ],
      "execution_count": null,
      "outputs": [
        {
          "output_type": "stream",
          "text": [
            "<class 'pandas.core.frame.DataFrame'>\n",
            "RangeIndex: 156 entries, 0 to 155\n",
            "Data columns (total 8 columns):\n",
            " #   Column                        Non-Null Count  Dtype  \n",
            "---  ------                        --------------  -----  \n",
            " 0   Country or region             156 non-null    object \n",
            " 1   Score                         156 non-null    float64\n",
            " 2   GDP per capita                156 non-null    float64\n",
            " 3   Social support                156 non-null    float64\n",
            " 4   Healthy life expectancy       156 non-null    float64\n",
            " 5   Freedom to make life choices  156 non-null    float64\n",
            " 6   Generosity                    156 non-null    float64\n",
            " 7   Perceptions of corruption     156 non-null    float64\n",
            "dtypes: float64(7), object(1)\n",
            "memory usage: 9.9+ KB\n"
          ],
          "name": "stdout"
        }
      ]
    },
    {
      "cell_type": "code",
      "metadata": {
        "id": "NXLer68na_61"
      },
      "source": [
        "india = dataset[dataset['Country or region']=='India']"
      ],
      "execution_count": null,
      "outputs": []
    },
    {
      "cell_type": "markdown",
      "metadata": {
        "id": "BWeeKw9-bzTM"
      },
      "source": [
        "**;-; Such a Large Rank**"
      ]
    },
    {
      "cell_type": "code",
      "metadata": {
        "colab": {
          "base_uri": "https://localhost:8080/"
        },
        "id": "DZrRM2sZb81I",
        "outputId": "5765b696-b282-4d99-bead-9664a830b466"
      },
      "source": [
        "dataset['Score'].describe()\n"
      ],
      "execution_count": null,
      "outputs": [
        {
          "output_type": "execute_result",
          "data": {
            "text/plain": [
              "count    156.000000\n",
              "mean       5.407096\n",
              "std        1.113120\n",
              "min        2.853000\n",
              "25%        4.544500\n",
              "50%        5.379500\n",
              "75%        6.184500\n",
              "max        7.769000\n",
              "Name: Score, dtype: float64"
            ]
          },
          "metadata": {
            "tags": []
          },
          "execution_count": 163
        }
      ]
    },
    {
      "cell_type": "code",
      "metadata": {
        "colab": {
          "base_uri": "https://localhost:8080/"
        },
        "id": "VdrViU-0cSUZ",
        "outputId": "db9d86c1-d03e-45f4-cd0f-df197c8bdb7e"
      },
      "source": [
        "india['Score']"
      ],
      "execution_count": null,
      "outputs": [
        {
          "output_type": "execute_result",
          "data": {
            "text/plain": [
              "139    4.015\n",
              "Name: Score, dtype: float64"
            ]
          },
          "metadata": {
            "tags": []
          },
          "execution_count": 164
        }
      ]
    },
    {
      "cell_type": "code",
      "metadata": {
        "colab": {
          "base_uri": "https://localhost:8080/",
          "height": 350
        },
        "id": "Jate_Bd5dLde",
        "outputId": "5ca2392d-e207-4a37-e887-2550003b4929"
      },
      "source": [
        "sns.boxplot(dataset['Score'],color='cyan')\n",
        "plt.scatter(india['Score'],[0.0],color='red')"
      ],
      "execution_count": null,
      "outputs": [
        {
          "output_type": "stream",
          "text": [
            "/usr/local/lib/python3.7/dist-packages/seaborn/_decorators.py:43: FutureWarning: Pass the following variable as a keyword arg: x. From version 0.12, the only valid positional argument will be `data`, and passing other arguments without an explicit keyword will result in an error or misinterpretation.\n",
            "  FutureWarning\n"
          ],
          "name": "stderr"
        },
        {
          "output_type": "execute_result",
          "data": {
            "text/plain": [
              "<matplotlib.collections.PathCollection at 0x7fd34ad45e50>"
            ]
          },
          "metadata": {
            "tags": []
          },
          "execution_count": 165
        },
        {
          "output_type": "display_data",
          "data": {
            "image/png": "[encoded data removed]",
            "text/plain": [
              "<Figure size 432x288 with 1 Axes>"
            ]
          },
          "metadata": {
            "tags": [],
            "needs_background": "light"
          }
        }
      ]
    },
    {
      "cell_type": "markdown",
      "metadata": {
        "id": "wP67wfBTcVzq"
      },
      "source": [
        "INDIA LIES BELOW FIRST QUARTILE(score)"
      ]
    },
    {
      "cell_type": "code",
      "metadata": {
        "colab": {
          "base_uri": "https://localhost:8080/",
          "height": 350
        },
        "id": "H4X5DY9Z8Gft",
        "outputId": "6aa2fc21-919d-4e5d-8577-5ce4a6a65967"
      },
      "source": [
        "sns.boxplot(dataset['GDP per capita'],color='cyan')\n",
        "plt.scatter(india['GDP per capita'],[0.0],color='red')"
      ],
      "execution_count": null,
      "outputs": [
        {
          "output_type": "stream",
          "text": [
            "/usr/local/lib/python3.7/dist-packages/seaborn/_decorators.py:43: FutureWarning: Pass the following variable as a keyword arg: x. From version 0.12, the only valid positional argument will be `data`, and passing other arguments without an explicit keyword will result in an error or misinterpretation.\n",
            "  FutureWarning\n"
          ],
          "name": "stderr"
        },
        {
          "output_type": "execute_result",
          "data": {
            "text/plain": [
              "<matplotlib.collections.PathCollection at 0x7fd34b4a3c50>"
            ]
          },
          "metadata": {
            "tags": []
          },
          "execution_count": 166
        },
        {
          "output_type": "display_data",
          "data": {
            "image/png": "[encoded data removed]",
            "text/plain": [
              "<Figure size 432x288 with 1 Axes>"
            ]
          },
          "metadata": {
            "tags": [],
            "needs_background": "light"
          }
        }
      ]
    },
    {
      "cell_type": "code",
      "metadata": {
        "colab": {
          "base_uri": "https://localhost:8080/",
          "height": 350
        },
        "id": "wbban2XK8byj",
        "outputId": "16ffa2c4-c582-4273-b9db-58ca1f802773"
      },
      "source": [
        "sns.boxplot(dataset['Social support'],color='cyan')\n",
        "plt.scatter(india['Social support'],[0.0],color='red')"
      ],
      "execution_count": null,
      "outputs": [
        {
          "output_type": "stream",
          "text": [
            "/usr/local/lib/python3.7/dist-packages/seaborn/_decorators.py:43: FutureWarning: Pass the following variable as a keyword arg: x. From version 0.12, the only valid positional argument will be `data`, and passing other arguments without an explicit keyword will result in an error or misinterpretation.\n",
            "  FutureWarning\n"
          ],
          "name": "stderr"
        },
        {
          "output_type": "execute_result",
          "data": {
            "text/plain": [
              "<matplotlib.collections.PathCollection at 0x7fd34a6a7410>"
            ]
          },
          "metadata": {
            "tags": []
          },
          "execution_count": 167
        },
        {
          "output_type": "display_data",
          "data": {
            "image/png": "[encoded data removed]",
            "text/plain": [
              "<Figure size 432x288 with 1 Axes>"
            ]
          },
          "metadata": {
            "tags": [],
            "needs_background": "light"
          }
        }
      ]
    },
    {
      "cell_type": "markdown",
      "metadata": {
        "id": "XSaxcZpo8uJR"
      },
      "source": [
        "**EVEN AFTER HAVING MANY JOINT FAMILIES SOCIAL SUPPORT SCORE IS LESS ;-;**"
      ]
    },
    {
      "cell_type": "code",
      "metadata": {
        "colab": {
          "base_uri": "https://localhost:8080/",
          "height": 350
        },
        "id": "ppoU5YL99bAG",
        "outputId": "3329453b-4e62-422b-c7bd-a70c1fec53a4"
      },
      "source": [
        "sns.boxplot(dataset['Healthy life expectancy'],color='cyan')\n",
        "plt.scatter(india['Healthy life expectancy'],[0.0],color='red')"
      ],
      "execution_count": null,
      "outputs": [
        {
          "output_type": "stream",
          "text": [
            "/usr/local/lib/python3.7/dist-packages/seaborn/_decorators.py:43: FutureWarning: Pass the following variable as a keyword arg: x. From version 0.12, the only valid positional argument will be `data`, and passing other arguments without an explicit keyword will result in an error or misinterpretation.\n",
            "  FutureWarning\n"
          ],
          "name": "stderr"
        },
        {
          "output_type": "execute_result",
          "data": {
            "text/plain": [
              "<matplotlib.collections.PathCollection at 0x7fd34a68de10>"
            ]
          },
          "metadata": {
            "tags": []
          },
          "execution_count": 168
        },
        {
          "output_type": "display_data",
          "data": {
            "image/png": "[encoded data removed]",
            "text/plain": [
              "<Figure size 432x288 with 1 Axes>"
            ]
          },
          "metadata": {
            "tags": [],
            "needs_background": "light"
          }
        }
      ]
    },
    {
      "cell_type": "code",
      "metadata": {
        "colab": {
          "base_uri": "https://localhost:8080/",
          "height": 350
        },
        "id": "W42SXS939MbA",
        "outputId": "54cc23a3-1e4d-438d-b31a-88bffa4bfa23"
      },
      "source": [
        "sns.boxplot(dataset['Freedom to make life choices'],color='cyan')\n",
        "plt.scatter(india['Freedom to make life choices'],[0.0],color='red')"
      ],
      "execution_count": null,
      "outputs": [
        {
          "output_type": "stream",
          "text": [
            "/usr/local/lib/python3.7/dist-packages/seaborn/_decorators.py:43: FutureWarning: Pass the following variable as a keyword arg: x. From version 0.12, the only valid positional argument will be `data`, and passing other arguments without an explicit keyword will result in an error or misinterpretation.\n",
            "  FutureWarning\n"
          ],
          "name": "stderr"
        },
        {
          "output_type": "execute_result",
          "data": {
            "text/plain": [
              "<matplotlib.collections.PathCollection at 0x7fd34a60b190>"
            ]
          },
          "metadata": {
            "tags": []
          },
          "execution_count": 169
        },
        {
          "output_type": "display_data",
          "data": {
            "image/png": "[encoded data removed]",
            "text/plain": [
              "<Figure size 432x288 with 1 Axes>"
            ]
          },
          "metadata": {
            "tags": [],
            "needs_background": "light"
          }
        }
      ]
    },
    {
      "cell_type": "markdown",
      "metadata": {
        "id": "h2G5zRrg9kic"
      },
      "source": [
        "# **:)**"
      ]
    },
    {
      "cell_type": "code",
      "metadata": {
        "colab": {
          "base_uri": "https://localhost:8080/",
          "height": 350
        },
        "id": "MdoRhuOM9z7_",
        "outputId": "374fa246-3eeb-4f77-d766-011eb5084792"
      },
      "source": [
        "sns.boxplot(dataset['Generosity'],color='cyan')\n",
        "plt.scatter(india['Generosity'],[0.0],color='red')"
      ],
      "execution_count": null,
      "outputs": [
        {
          "output_type": "stream",
          "text": [
            "/usr/local/lib/python3.7/dist-packages/seaborn/_decorators.py:43: FutureWarning: Pass the following variable as a keyword arg: x. From version 0.12, the only valid positional argument will be `data`, and passing other arguments without an explicit keyword will result in an error or misinterpretation.\n",
            "  FutureWarning\n"
          ],
          "name": "stderr"
        },
        {
          "output_type": "execute_result",
          "data": {
            "text/plain": [
              "<matplotlib.collections.PathCollection at 0x7fd34a579f90>"
            ]
          },
          "metadata": {
            "tags": []
          },
          "execution_count": 170
        },
        {
          "output_type": "display_data",
          "data": {
            "image/png": "[encoded data removed]",
            "text/plain": [
              "<Figure size 432x288 with 1 Axes>"
            ]
          },
          "metadata": {
            "tags": [],
            "needs_background": "light"
          }
        }
      ]
    },
    {
      "cell_type": "markdown",
      "metadata": {
        "id": "AEw6Z9Vf99TW"
      },
      "source": [
        "# **:)**"
      ]
    },
    {
      "cell_type": "code",
      "metadata": {
        "colab": {
          "base_uri": "https://localhost:8080/",
          "height": 350
        },
        "id": "IRvpBAZZ9_17",
        "outputId": "18799cff-6e7f-405b-bba2-1c6027c348ec"
      },
      "source": [
        "sns.boxplot(dataset['Perceptions of corruption'],color='cyan')\n",
        "plt.scatter(india['Perceptions of corruption'],[0.0],color='red')"
      ],
      "execution_count": null,
      "outputs": [
        {
          "output_type": "stream",
          "text": [
            "/usr/local/lib/python3.7/dist-packages/seaborn/_decorators.py:43: FutureWarning: Pass the following variable as a keyword arg: x. From version 0.12, the only valid positional argument will be `data`, and passing other arguments without an explicit keyword will result in an error or misinterpretation.\n",
            "  FutureWarning\n"
          ],
          "name": "stderr"
        },
        {
          "output_type": "execute_result",
          "data": {
            "text/plain": [
              "<matplotlib.collections.PathCollection at 0x7fd34a4eac10>"
            ]
          },
          "metadata": {
            "tags": []
          },
          "execution_count": 171
        },
        {
          "output_type": "display_data",
          "data": {
            "image/png": "[encoded data removed]",
            "text/plain": [
              "<Figure size 432x288 with 1 Axes>"
            ]
          },
          "metadata": {
            "tags": [],
            "needs_background": "light"
          }
        }
      ]
    },
    {
      "cell_type": "markdown",
      "metadata": {
        "id": "G60v7sNae4oQ"
      },
      "source": [
        "# REGRESSION MODEL"
      ]
    },
    {
      "cell_type": "code",
      "metadata": {
        "colab": {
          "base_uri": "https://localhost:8080/",
          "height": 220
        },
        "id": "PNf8x9GjfRwn",
        "outputId": "5b4f7414-ea09-4dc8-f784-2e8821c0ae6b"
      },
      "source": [
        "dataset.head()"
      ],
      "execution_count": null,
      "outputs": [
        {
          "output_type": "execute_result",
          "data": {
            "text/html": [
              "<div>\n",
              "<style scoped>\n",
              "    .dataframe tbody tr th:only-of-type {\n",
              "        vertical-align: middle;\n",
              "    }\n",
              "\n",
              "    .dataframe tbody tr th {\n",
              "        vertical-align: top;\n",
              "    }\n",
              "\n",
              "    .dataframe thead th {\n",
              "        text-align: right;\n",
              "    }\n",
              "</style>\n",
              "<table border=\"1\" class=\"dataframe\">\n",
              "  <thead>\n",
              "    <tr style=\"text-align: right;\">\n",
              "      <th></th>\n",
              "      <th>Country or region</th>\n",
              "      <th>Score</th>\n",
              "      <th>GDP per capita</th>\n",
              "      <th>Social support</th>\n",
              "      <th>Healthy life expectancy</th>\n",
              "      <th>Freedom to make life choices</th>\n",
              "      <th>Generosity</th>\n",
              "      <th>Perceptions of corruption</th>\n",
              "    </tr>\n",
              "  </thead>\n",
              "  <tbody>\n",
              "    <tr>\n",
              "      <th>0</th>\n",
              "      <td>Finland</td>\n",
              "      <td>7.769</td>\n",
              "      <td>1.340</td>\n",
              "      <td>1.587</td>\n",
              "      <td>0.986</td>\n",
              "      <td>0.596</td>\n",
              "      <td>0.153</td>\n",
              "      <td>0.393</td>\n",
              "    </tr>\n",
              "    <tr>\n",
              "      <th>1</th>\n",
              "      <td>Denmark</td>\n",
              "      <td>7.600</td>\n",
              "      <td>1.383</td>\n",
              "      <td>1.573</td>\n",
              "      <td>0.996</td>\n",
              "      <td>0.592</td>\n",
              "      <td>0.252</td>\n",
              "      <td>0.410</td>\n",
              "    </tr>\n",
              "    <tr>\n",
              "      <th>2</th>\n",
              "      <td>Norway</td>\n",
              "      <td>7.554</td>\n",
              "      <td>1.488</td>\n",
              "      <td>1.582</td>\n",
              "      <td>1.028</td>\n",
              "      <td>0.603</td>\n",
              "      <td>0.271</td>\n",
              "      <td>0.341</td>\n",
              "    </tr>\n",
              "    <tr>\n",
              "      <th>3</th>\n",
              "      <td>Iceland</td>\n",
              "      <td>7.494</td>\n",
              "      <td>1.380</td>\n",
              "      <td>1.624</td>\n",
              "      <td>1.026</td>\n",
              "      <td>0.591</td>\n",
              "      <td>0.354</td>\n",
              "      <td>0.118</td>\n",
              "    </tr>\n",
              "    <tr>\n",
              "      <th>4</th>\n",
              "      <td>Netherlands</td>\n",
              "      <td>7.488</td>\n",
              "      <td>1.396</td>\n",
              "      <td>1.522</td>\n",
              "      <td>0.999</td>\n",
              "      <td>0.557</td>\n",
              "      <td>0.322</td>\n",
              "      <td>0.298</td>\n",
              "    </tr>\n",
              "  </tbody>\n",
              "</table>\n",
              "</div>"
            ],
            "text/plain": [
              "  Country or region  Score  ...  Generosity  Perceptions of corruption\n",
              "0           Finland  7.769  ...       0.153                      0.393\n",
              "1           Denmark  7.600  ...       0.252                      0.410\n",
              "2            Norway  7.554  ...       0.271                      0.341\n",
              "3           Iceland  7.494  ...       0.354                      0.118\n",
              "4       Netherlands  7.488  ...       0.322                      0.298\n",
              "\n",
              "[5 rows x 8 columns]"
            ]
          },
          "metadata": {
            "tags": []
          },
          "execution_count": 172
        }
      ]
    },
    {
      "cell_type": "code",
      "metadata": {
        "id": "m27BNAYffcm8"
      },
      "source": [
        "X=dataset.iloc[:,2:8].values\n",
        "y=dataset.iloc[:,1].values"
      ],
      "execution_count": null,
      "outputs": []
    },
    {
      "cell_type": "code",
      "metadata": {
        "colab": {
          "base_uri": "https://localhost:8080/"
        },
        "id": "XesR8xXVfzaV",
        "outputId": "58eeb466-1fe5-485d-949c-1e08b409cc9c"
      },
      "source": [
        "print(X)"
      ],
      "execution_count": null,
      "outputs": [
        {
          "output_type": "stream",
          "text": [
            "[[1.34  1.587 0.986 0.596 0.153 0.393]\n",
            " [1.383 1.573 0.996 0.592 0.252 0.41 ]\n",
            " [1.488 1.582 1.028 0.603 0.271 0.341]\n",
            " [1.38  1.624 1.026 0.591 0.354 0.118]\n",
            " [1.396 1.522 0.999 0.557 0.322 0.298]\n",
            " [1.452 1.526 1.052 0.572 0.263 0.343]\n",
            " [1.387 1.487 1.009 0.574 0.267 0.373]\n",
            " [1.303 1.557 1.026 0.585 0.33  0.38 ]\n",
            " [1.365 1.505 1.039 0.584 0.285 0.308]\n",
            " [1.376 1.475 1.016 0.532 0.244 0.226]\n",
            " [1.372 1.548 1.036 0.557 0.332 0.29 ]\n",
            " [1.034 1.441 0.963 0.558 0.144 0.093]\n",
            " [1.276 1.455 1.029 0.371 0.261 0.082]\n",
            " [1.609 1.479 1.012 0.526 0.194 0.316]\n",
            " [1.333 1.538 0.996 0.45  0.348 0.278]\n",
            " [1.499 1.553 0.999 0.516 0.298 0.31 ]\n",
            " [1.373 1.454 0.987 0.495 0.261 0.265]\n",
            " [1.356 1.504 0.986 0.473 0.16  0.21 ]\n",
            " [1.433 1.457 0.874 0.454 0.28  0.128]\n",
            " [1.269 1.487 0.92  0.457 0.046 0.036]\n",
            " [1.503 1.31  0.825 0.598 0.262 0.182]\n",
            " [1.3   1.52  0.999 0.564 0.375 0.151]\n",
            " [1.07  1.323 0.861 0.433 0.074 0.073]\n",
            " [1.324 1.472 1.045 0.436 0.111 0.183]\n",
            " [1.368 1.43  0.914 0.351 0.242 0.097]\n",
            " [1.159 1.369 0.92  0.357 0.187 0.056]\n",
            " [0.8   1.269 0.746 0.535 0.175 0.078]\n",
            " [1.403 1.357 0.795 0.439 0.08  0.132]\n",
            " [1.684 1.313 0.871 0.555 0.22  0.167]\n",
            " [1.286 1.484 1.062 0.362 0.153 0.079]\n",
            " [1.149 1.442 0.91  0.516 0.109 0.054]\n",
            " [1.004 1.439 0.802 0.39  0.099 0.086]\n",
            " [1.124 1.465 0.891 0.523 0.127 0.15 ]\n",
            " [1.572 1.463 1.141 0.556 0.271 0.453]\n",
            " [0.794 1.242 0.789 0.43  0.093 0.074]\n",
            " [1.294 1.488 1.039 0.231 0.158 0.03 ]\n",
            " [1.362 1.368 0.871 0.536 0.255 0.11 ]\n",
            " [1.246 1.504 0.881 0.334 0.121 0.014]\n",
            " [1.231 1.477 0.713 0.489 0.185 0.016]\n",
            " [1.206 1.438 0.884 0.483 0.117 0.05 ]\n",
            " [0.745 1.529 0.756 0.631 0.322 0.24 ]\n",
            " [1.238 1.515 0.818 0.291 0.043 0.042]\n",
            " [0.985 1.41  0.841 0.47  0.099 0.034]\n",
            " [1.258 1.523 0.953 0.564 0.144 0.057]\n",
            " [0.694 1.325 0.835 0.435 0.2   0.127]\n",
            " [0.882 1.232 0.758 0.489 0.262 0.006]\n",
            " [1.092 1.432 0.881 0.471 0.066 0.05 ]\n",
            " [1.162 1.232 0.825 0.462 0.083 0.005]\n",
            " [1.263 1.223 1.042 0.406 0.19  0.041]\n",
            " [0.912 1.312 0.868 0.498 0.126 0.087]\n",
            " [1.5   1.319 0.808 0.493 0.142 0.097]\n",
            " [1.05  1.409 0.828 0.557 0.359 0.028]\n",
            " [1.187 1.465 0.812 0.264 0.075 0.064]\n",
            " [1.301 1.219 1.036 0.159 0.175 0.056]\n",
            " [1.237 1.528 0.874 0.495 0.103 0.161]\n",
            " [0.831 1.478 0.831 0.49  0.107 0.028]\n",
            " [1.12  1.402 0.798 0.498 0.215 0.06 ]\n",
            " [1.327 1.419 1.088 0.445 0.069 0.14 ]\n",
            " [0.642 1.236 0.828 0.507 0.246 0.078]\n",
            " [1.173 1.508 0.729 0.41  0.146 0.096]\n",
            " [0.776 1.209 0.706 0.511 0.137 0.064]\n",
            " [1.201 1.41  0.828 0.199 0.081 0.02 ]\n",
            " [0.855 1.475 0.777 0.514 0.184 0.08 ]\n",
            " [1.263 1.252 1.042 0.417 0.191 0.162]\n",
            " [0.96  1.274 0.854 0.455 0.083 0.027]\n",
            " [1.221 1.431 0.999 0.508 0.047 0.025]\n",
            " [0.677 0.886 0.535 0.313 0.22  0.098]\n",
            " [1.183 1.452 0.726 0.334 0.082 0.031]\n",
            " [0.807 1.293 0.657 0.558 0.117 0.107]\n",
            " [1.004 1.383 0.854 0.282 0.137 0.039]\n",
            " [0.685 1.328 0.739 0.245 0.181 0.   ]\n",
            " [1.044 1.303 0.673 0.416 0.133 0.152]\n",
            " [1.051 1.361 0.871 0.197 0.142 0.08 ]\n",
            " [0.493 1.098 0.718 0.389 0.23  0.144]\n",
            " [1.155 1.266 0.914 0.296 0.119 0.022]\n",
            " [1.438 1.277 1.122 0.44  0.258 0.287]\n",
            " [1.015 1.401 0.779 0.497 0.113 0.101]\n",
            " [0.945 1.212 0.845 0.212 0.263 0.006]\n",
            " [1.183 1.36  0.808 0.195 0.083 0.106]\n",
            " [1.221 1.171 0.828 0.508 0.26  0.024]\n",
            " [1.067 1.465 0.789 0.235 0.094 0.142]\n",
            " [1.181 1.156 0.999 0.067 0.    0.034]\n",
            " [0.948 1.531 0.667 0.317 0.235 0.038]\n",
            " [0.983 1.294 0.838 0.345 0.185 0.034]\n",
            " [0.696 1.111 0.245 0.426 0.215 0.041]\n",
            " [0.551 1.438 0.723 0.508 0.3   0.023]\n",
            " [1.052 1.538 0.657 0.394 0.244 0.028]\n",
            " [1.002 1.16  0.785 0.086 0.073 0.114]\n",
            " [0.801 0.782 0.782 0.418 0.036 0.076]\n",
            " [1.043 1.147 0.769 0.351 0.035 0.182]\n",
            " [0.987 1.224 0.815 0.216 0.166 0.027]\n",
            " [0.931 1.203 0.66  0.491 0.498 0.028]\n",
            " [1.029 1.125 0.893 0.521 0.058 0.1  ]\n",
            " [0.741 1.346 0.851 0.543 0.147 0.073]\n",
            " [0.813 1.321 0.604 0.457 0.37  0.167]\n",
            " [0.549 0.91  0.331 0.381 0.187 0.037]\n",
            " [1.092 1.513 0.815 0.311 0.081 0.004]\n",
            " [0.611 0.868 0.486 0.381 0.245 0.04 ]\n",
            " [0.569 0.808 0.232 0.352 0.154 0.09 ]\n",
            " [0.446 1.226 0.677 0.439 0.285 0.089]\n",
            " [0.837 1.225 0.815 0.383 0.11  0.13 ]\n",
            " [0.393 0.437 0.397 0.349 0.175 0.082]\n",
            " [0.673 0.799 0.508 0.372 0.105 0.093]\n",
            " [1.057 1.183 0.571 0.295 0.043 0.055]\n",
            " [0.764 1.03  0.551 0.547 0.266 0.164]\n",
            " [0.96  1.351 0.469 0.389 0.13  0.055]\n",
            " [0.947 0.848 0.874 0.383 0.178 0.027]\n",
            " [0.96  1.427 0.805 0.154 0.064 0.047]\n",
            " [0.574 1.122 0.637 0.609 0.232 0.062]\n",
            " [0.657 1.247 0.672 0.225 0.103 0.066]\n",
            " [0.45  1.134 0.571 0.292 0.153 0.072]\n",
            " [0.    0.698 0.268 0.559 0.243 0.27 ]\n",
            " [0.879 1.313 0.477 0.401 0.07  0.056]\n",
            " [0.138 0.774 0.366 0.318 0.188 0.102]\n",
            " [0.331 1.056 0.38  0.255 0.177 0.113]\n",
            " [0.85  1.055 0.815 0.283 0.095 0.064]\n",
            " [1.1   0.842 0.785 0.305 0.27  0.125]\n",
            " [0.38  0.829 0.375 0.332 0.207 0.086]\n",
            " [0.886 0.666 0.752 0.346 0.043 0.164]\n",
            " [0.308 0.939 0.428 0.382 0.269 0.167]\n",
            " [0.512 0.983 0.581 0.431 0.372 0.053]\n",
            " [0.57  1.167 0.489 0.066 0.106 0.088]\n",
            " [0.204 0.986 0.39  0.494 0.197 0.138]\n",
            " [0.921 1.    0.815 0.167 0.059 0.055]\n",
            " [0.562 0.928 0.723 0.527 0.166 0.143]\n",
            " [1.043 0.98  0.574 0.241 0.148 0.089]\n",
            " [0.094 1.125 0.357 0.269 0.212 0.053]\n",
            " [0.385 1.105 0.308 0.327 0.153 0.052]\n",
            " [0.268 0.841 0.242 0.309 0.252 0.045]\n",
            " [0.949 1.265 0.831 0.47  0.244 0.047]\n",
            " [0.71  1.181 0.555 0.525 0.566 0.172]\n",
            " [0.35  0.766 0.192 0.174 0.198 0.078]\n",
            " [0.82  1.39  0.739 0.178 0.187 0.01 ]\n",
            " [0.336 1.033 0.532 0.344 0.209 0.1  ]\n",
            " [0.811 1.149 0.    0.313 0.074 0.135]\n",
            " [0.332 1.069 0.443 0.356 0.252 0.06 ]\n",
            " [0.913 1.039 0.644 0.241 0.076 0.067]\n",
            " [0.578 1.058 0.426 0.431 0.247 0.087]\n",
            " [0.275 0.572 0.41  0.293 0.177 0.085]\n",
            " [0.755 0.765 0.588 0.498 0.2   0.085]\n",
            " [0.073 0.922 0.443 0.37  0.233 0.033]\n",
            " [0.274 0.757 0.505 0.142 0.275 0.078]\n",
            " [0.274 0.916 0.555 0.148 0.169 0.041]\n",
            " [0.489 1.169 0.168 0.359 0.107 0.093]\n",
            " [0.046 0.447 0.38  0.22  0.176 0.18 ]\n",
            " [0.366 1.114 0.433 0.361 0.151 0.089]\n",
            " [0.323 0.688 0.449 0.026 0.419 0.11 ]\n",
            " [1.041 1.145 0.538 0.455 0.025 0.1  ]\n",
            " [0.619 0.378 0.44  0.013 0.331 0.141]\n",
            " [0.191 0.56  0.495 0.443 0.218 0.089]\n",
            " [0.287 1.163 0.463 0.143 0.108 0.077]\n",
            " [0.359 0.711 0.614 0.555 0.217 0.411]\n",
            " [0.476 0.885 0.499 0.417 0.276 0.147]\n",
            " [0.35  0.517 0.361 0.    0.158 0.025]\n",
            " [0.026 0.    0.105 0.225 0.235 0.035]\n",
            " [0.306 0.575 0.295 0.01  0.202 0.091]]\n"
          ],
          "name": "stdout"
        }
      ]
    },
    {
      "cell_type": "code",
      "metadata": {
        "colab": {
          "base_uri": "https://localhost:8080/"
        },
        "id": "_D83fF24f40c",
        "outputId": "ea63638f-97fa-47cb-b6e4-924dcc0abeb0"
      },
      "source": [
        "print(y)"
      ],
      "execution_count": null,
      "outputs": [
        {
          "output_type": "stream",
          "text": [
            "[7.769 7.6   7.554 7.494 7.488 7.48  7.343 7.307 7.278 7.246 7.228 7.167\n",
            " 7.139 7.09  7.054 7.021 6.985 6.923 6.892 6.852 6.825 6.726 6.595 6.592\n",
            " 6.446 6.444 6.436 6.375 6.374 6.354 6.321 6.3   6.293 6.262 6.253 6.223\n",
            " 6.199 6.198 6.192 6.182 6.174 6.149 6.125 6.118 6.105 6.1   6.086 6.07\n",
            " 6.046 6.028 6.021 6.008 5.94  5.895 5.893 5.89  5.888 5.886 5.86  5.809\n",
            " 5.779 5.758 5.743 5.718 5.697 5.693 5.653 5.648 5.631 5.603 5.529 5.525\n",
            " 5.523 5.467 5.432 5.43  5.425 5.386 5.373 5.339 5.323 5.287 5.285 5.274\n",
            " 5.265 5.261 5.247 5.211 5.208 5.208 5.197 5.192 5.191 5.175 5.082 5.044\n",
            " 5.011 4.996 4.944 4.913 4.906 4.883 4.812 4.799 4.796 4.722 4.719 4.707\n",
            " 4.7   4.696 4.681 4.668 4.639 4.628 4.587 4.559 4.548 4.534 4.519 4.516\n",
            " 4.509 4.49  4.466 4.461 4.456 4.437 4.418 4.39  4.374 4.366 4.36  4.35\n",
            " 4.332 4.286 4.212 4.189 4.166 4.107 4.085 4.015 3.975 3.973 3.933 3.802\n",
            " 3.775 3.663 3.597 3.488 3.462 3.41  3.38  3.334 3.231 3.203 3.083 2.853]\n"
          ],
          "name": "stdout"
        }
      ]
    },
    {
      "cell_type": "markdown",
      "metadata": {
        "id": "5aU7eQEUldVl"
      },
      "source": [
        "**FEATURE SCALING**"
      ]
    },
    {
      "cell_type": "code",
      "metadata": {
        "id": "_MColSZClc7B"
      },
      "source": [
        "from sklearn.preprocessing import StandardScaler\n",
        "sc = StandardScaler()\n",
        "X[:, :] = sc.fit_transform(X[:, :])"
      ],
      "execution_count": null,
      "outputs": []
    },
    {
      "cell_type": "code",
      "metadata": {
        "id": "ryA5G3J_fFzn"
      },
      "source": [
        "from sklearn.model_selection import train_test_split\n",
        "X_train,X_test,y_train,y_test = train_test_split(X,y)"
      ],
      "execution_count": null,
      "outputs": []
    },
    {
      "cell_type": "markdown",
      "metadata": {
        "id": "VpjXq-ytfB6s"
      },
      "source": [
        "**LINEAR REGRESSION**"
      ]
    },
    {
      "cell_type": "code",
      "metadata": {
        "colab": {
          "base_uri": "https://localhost:8080/"
        },
        "id": "zPob-n2Ae8w-",
        "outputId": "341eef8e-9dc2-425c-df8a-8f92517b587d"
      },
      "source": [
        "from sklearn.linear_model import LinearRegression\n",
        "regressor = LinearRegression()\n",
        "regressor.fit(X_train,y_train)"
      ],
      "execution_count": null,
      "outputs": [
        {
          "output_type": "execute_result",
          "data": {
            "text/plain": [
              "LinearRegression(copy_X=True, fit_intercept=True, n_jobs=None, normalize=False)"
            ]
          },
          "metadata": {
            "tags": []
          },
          "execution_count": 178
        }
      ]
    },
    {
      "cell_type": "code",
      "metadata": {
        "id": "-0OSTA5tgKDJ"
      },
      "source": [
        "y_pred = regressor.predict(X_test)"
      ],
      "execution_count": null,
      "outputs": []
    },
    {
      "cell_type": "code",
      "metadata": {
        "colab": {
          "base_uri": "https://localhost:8080/"
        },
        "id": "dKGVC_BBkR_n",
        "outputId": "07f4705f-4bfd-4660-da9f-771f63964107"
      },
      "source": [
        "from sklearn.metrics import mean_squared_error\n",
        "mean_squared_error(y_test,y_pred,squared=False)"
      ],
      "execution_count": null,
      "outputs": [
        {
          "output_type": "execute_result",
          "data": {
            "text/plain": [
              "0.5468485588832349"
            ]
          },
          "metadata": {
            "tags": []
          },
          "execution_count": 180
        }
      ]
    },
    {
      "cell_type": "markdown",
      "metadata": {
        "id": "4YYR0h5egT8x"
      },
      "source": [
        "**DECISION TREE REGRESSOR**"
      ]
    },
    {
      "cell_type": "code",
      "metadata": {
        "colab": {
          "base_uri": "https://localhost:8080/"
        },
        "id": "VUk6WsNjgSml",
        "outputId": "56ef296a-963b-4971-f99a-790d880b4086"
      },
      "source": [
        "from sklearn.tree import DecisionTreeRegressor\n",
        "regressor = DecisionTreeRegressor()\n",
        "regressor.fit(X_train,y_train)\n"
      ],
      "execution_count": null,
      "outputs": [
        {
          "output_type": "execute_result",
          "data": {
            "text/plain": [
              "DecisionTreeRegressor(ccp_alpha=0.0, criterion='mse', max_depth=None,\n",
              "                      max_features=None, max_leaf_nodes=None,\n",
              "                      min_impurity_decrease=0.0, min_impurity_split=None,\n",
              "                      min_samples_leaf=1, min_samples_split=2,\n",
              "                      min_weight_fraction_leaf=0.0, presort='deprecated',\n",
              "                      random_state=None, splitter='best')"
            ]
          },
          "metadata": {
            "tags": []
          },
          "execution_count": 181
        }
      ]
    },
    {
      "cell_type": "code",
      "metadata": {
        "id": "T9TXDexzkoif"
      },
      "source": [
        "y_pred = regressor.predict(X_test)"
      ],
      "execution_count": null,
      "outputs": []
    },
    {
      "cell_type": "code",
      "metadata": {
        "colab": {
          "base_uri": "https://localhost:8080/"
        },
        "id": "uJFJYeYhkkyF",
        "outputId": "462117ce-cbf5-4967-c776-f27192b2a7df"
      },
      "source": [
        "from sklearn.metrics import mean_squared_error\n",
        "mean_squared_error(y_test,y_pred,squared=False)"
      ],
      "execution_count": null,
      "outputs": [
        {
          "output_type": "execute_result",
          "data": {
            "text/plain": [
              "0.7883253103077401"
            ]
          },
          "metadata": {
            "tags": []
          },
          "execution_count": 183
        }
      ]
    },
    {
      "cell_type": "markdown",
      "metadata": {
        "id": "MtM4e8KWks11"
      },
      "source": [
        "**RANDOM FOREST REGRESSOR**"
      ]
    },
    {
      "cell_type": "code",
      "metadata": {
        "colab": {
          "base_uri": "https://localhost:8080/"
        },
        "id": "3RNc5U7dkwP4",
        "outputId": "13d6432e-a1f7-4831-ba29-cf701339ad6c"
      },
      "source": [
        "from sklearn.ensemble import RandomForestRegressor\n",
        "regressor = RandomForestRegressor()\n",
        "regressor.fit(X_train,y_train)"
      ],
      "execution_count": null,
      "outputs": [
        {
          "output_type": "execute_result",
          "data": {
            "text/plain": [
              "RandomForestRegressor(bootstrap=True, ccp_alpha=0.0, criterion='mse',\n",
              "                      max_depth=None, max_features='auto', max_leaf_nodes=None,\n",
              "                      max_samples=None, min_impurity_decrease=0.0,\n",
              "                      min_impurity_split=None, min_samples_leaf=1,\n",
              "                      min_samples_split=2, min_weight_fraction_leaf=0.0,\n",
              "                      n_estimators=100, n_jobs=None, oob_score=False,\n",
              "                      random_state=None, verbose=0, warm_start=False)"
            ]
          },
          "metadata": {
            "tags": []
          },
          "execution_count": 184
        }
      ]
    },
    {
      "cell_type": "code",
      "metadata": {
        "id": "sUaqr3hCk9zP"
      },
      "source": [
        "y_pred = regressor.predict(X_test)"
      ],
      "execution_count": null,
      "outputs": []
    },
    {
      "cell_type": "code",
      "metadata": {
        "colab": {
          "base_uri": "https://localhost:8080/"
        },
        "id": "gzmqaTmolE1t",
        "outputId": "3be6b164-70a3-4e12-8cec-695a35da7cca"
      },
      "source": [
        "from sklearn.metrics import mean_squared_error\n",
        "mean_squared_error(y_test,y_pred,squared=False)"
      ],
      "execution_count": null,
      "outputs": [
        {
          "output_type": "execute_result",
          "data": {
            "text/plain": [
              "0.49398626295651515"
            ]
          },
          "metadata": {
            "tags": []
          },
          "execution_count": 186
        }
      ]
    },
    {
      "cell_type": "markdown",
      "metadata": {
        "id": "NYIMzICynmLr"
      },
      "source": [
        "**SVR(RBF)**"
      ]
    },
    {
      "cell_type": "code",
      "metadata": {
        "colab": {
          "base_uri": "https://localhost:8080/"
        },
        "id": "PBMWkdqxnop7",
        "outputId": "1f227f96-9519-4652-cf85-d98e5e8755d4"
      },
      "source": [
        "from sklearn.svm import SVR\n",
        "regressor = SVR(kernel = 'rbf')\n",
        "regressor.fit(X_train, y_train)"
      ],
      "execution_count": null,
      "outputs": [
        {
          "output_type": "execute_result",
          "data": {
            "text/plain": [
              "SVR(C=1.0, cache_size=200, coef0=0.0, degree=3, epsilon=0.1, gamma='scale',\n",
              "    kernel='rbf', max_iter=-1, shrinking=True, tol=0.001, verbose=False)"
            ]
          },
          "metadata": {
            "tags": []
          },
          "execution_count": 187
        }
      ]
    },
    {
      "cell_type": "code",
      "metadata": {
        "id": "jP9Lba4inr5m"
      },
      "source": [
        "y_pred=regressor.predict(X_test)"
      ],
      "execution_count": null,
      "outputs": []
    },
    {
      "cell_type": "code",
      "metadata": {
        "colab": {
          "base_uri": "https://localhost:8080/"
        },
        "id": "BgNun5XGnwfo",
        "outputId": "117ed420-0474-460d-ede8-b5f40a292560"
      },
      "source": [
        "from sklearn.metrics import mean_squared_error\n",
        "mean_squared_error(y_test,y_pred,squared=False)"
      ],
      "execution_count": null,
      "outputs": [
        {
          "output_type": "execute_result",
          "data": {
            "text/plain": [
              "0.5057369645889133"
            ]
          },
          "metadata": {
            "tags": []
          },
          "execution_count": 189
        }
      ]
    },
    {
      "cell_type": "markdown",
      "metadata": {
        "id": "fvCv7XeEn3qZ"
      },
      "source": [
        "**SVR(LINEAR)**"
      ]
    },
    {
      "cell_type": "code",
      "metadata": {
        "colab": {
          "base_uri": "https://localhost:8080/"
        },
        "id": "cBzAk3o6n6dh",
        "outputId": "07397398-e275-4988-8400-9ed92fb073f2"
      },
      "source": [
        "from sklearn.svm import SVR\n",
        "regressor = SVR(kernel = 'linear')\n",
        "regressor.fit(X_train, y_train)"
      ],
      "execution_count": null,
      "outputs": [
        {
          "output_type": "execute_result",
          "data": {
            "text/plain": [
              "SVR(C=1.0, cache_size=200, coef0=0.0, degree=3, epsilon=0.1, gamma='scale',\n",
              "    kernel='linear', max_iter=-1, shrinking=True, tol=0.001, verbose=False)"
            ]
          },
          "metadata": {
            "tags": []
          },
          "execution_count": 190
        }
      ]
    },
    {
      "cell_type": "code",
      "metadata": {
        "id": "C37F25r613ob"
      },
      "source": [
        "y_pred=regressor.predict(X_test)"
      ],
      "execution_count": null,
      "outputs": []
    },
    {
      "cell_type": "code",
      "metadata": {
        "colab": {
          "base_uri": "https://localhost:8080/"
        },
        "id": "YXVWoycf1znv",
        "outputId": "ede074bc-068f-44c5-8666-7197d1e503f3"
      },
      "source": [
        "from sklearn.metrics import mean_squared_error\n",
        "mean_squared_error(y_test,y_pred,squared=False)"
      ],
      "execution_count": null,
      "outputs": [
        {
          "output_type": "execute_result",
          "data": {
            "text/plain": [
              "0.5210994628635829"
            ]
          },
          "metadata": {
            "tags": []
          },
          "execution_count": 192
        }
      ]
    },
    {
      "cell_type": "markdown",
      "metadata": {
        "id": "G-zhouCv19ZY"
      },
      "source": [
        "**POLYNOMIAL REGRESSION**"
      ]
    },
    {
      "cell_type": "code",
      "metadata": {
        "id": "HYplp4pTEm0O",
        "colab": {
          "base_uri": "https://localhost:8080/"
        },
        "outputId": "5d599e15-5bb3-4151-adc3-bb2405b505b0"
      },
      "source": [
        "from sklearn.preprocessing import PolynomialFeatures\n",
        "poly_reg = PolynomialFeatures(degree = 2)\n",
        "X_poly = poly_reg.fit_transform(X_train)\n",
        "lin_reg_2 = LinearRegression()\n",
        "lin_reg_2.fit(X_poly, y_train)"
      ],
      "execution_count": null,
      "outputs": [
        {
          "output_type": "execute_result",
          "data": {
            "text/plain": [
              "LinearRegression(copy_X=True, fit_intercept=True, n_jobs=None, normalize=False)"
            ]
          },
          "metadata": {
            "tags": []
          },
          "execution_count": 193
        }
      ]
    },
    {
      "cell_type": "code",
      "metadata": {
        "id": "BY5DVw3n2bvq"
      },
      "source": [
        "X_poly_test = poly_reg.fit_transform(X_test)\n",
        "y_pred = lin_reg_2.predict(X_poly_test)"
      ],
      "execution_count": null,
      "outputs": []
    },
    {
      "cell_type": "code",
      "metadata": {
        "colab": {
          "base_uri": "https://localhost:8080/"
        },
        "id": "g0DH-QB_2EHD",
        "outputId": "26206176-6c03-4187-f7b1-7ea50f9782f8"
      },
      "source": [
        "from sklearn.metrics import mean_squared_error\n",
        "mean_squared_error(y_test,y_pred,squared=False)"
      ],
      "execution_count": null,
      "outputs": [
        {
          "output_type": "execute_result",
          "data": {
            "text/plain": [
              "0.5573459849026858"
            ]
          },
          "metadata": {
            "tags": []
          },
          "execution_count": 195
        }
      ]
    }
  ]
}